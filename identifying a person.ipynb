{
 "cells": [
  {
   "cell_type": "code",
   "execution_count": 24,
   "metadata": {},
   "outputs": [],
   "source": [
    "import face_recognition"
   ]
  },
  {
   "cell_type": "code",
   "execution_count": 25,
   "metadata": {},
   "outputs": [],
   "source": [
    "import cv2\n",
    "from PIL import Image"
   ]
  },
  {
   "cell_type": "code",
   "execution_count": 37,
   "metadata": {},
   "outputs": [
    {
     "name": "stdout",
     "output_type": "stream",
     "text": [
      "fond face at top:239, left:397, bottom:368, right:268\n",
      "[True]\n",
      "welcome abhay\n"
     ]
    }
   ],
   "source": [
    "cam=cv2.VideoCapture(0)\n",
    "s,img=cam.read()\n",
    "if s:\n",
    "    face_1_image=face_recognition.load_image_file(\"image.jpg\")\n",
    "    face_1_face_encoding=face_recognition.face_encodings(face_1_image)[0]\n",
    "    \n",
    "    small_frame=cv2.resize(img,(0,0),fx=0.25,fy=0.25)\n",
    "    \n",
    "    rgb_small_frame=small_frame[:,:,::-1]\n",
    "    face_location=face_recognition.face_locations(rgb_small_frame)\n",
    "    face_encoding=face_recognition.face_encodings(rgb_small_frame,face_location)\n",
    "    \n",
    "    check=face_recognition.compare_faces(face_1_face_encoding,face_encoding)\n",
    "    \n",
    "    top,left,bottom,right=(face_recognition.face_locations(img))[0]\n",
    "    print('fond face at top:{}, left:{}, bottom:{}, right:{}'.format(top,left,bottom,right))\n",
    "#     faces_images=img[top:bottom,left:right]\n",
    "#     pill_images=Image.fromarray(faces_images)\n",
    "#     pil_images.save('face.jpg')\n",
    "    print(check)\n",
    "    if check[0]:\n",
    "        print(\"welcome abhay\")\n",
    "    else:\n",
    "        print(\"unathurised person\")"
   ]
  },
  {
   "cell_type": "code",
   "execution_count": null,
   "metadata": {},
   "outputs": [],
   "source": [
    " "
   ]
  }
 ],
 "metadata": {
  "kernelspec": {
   "display_name": "Python 3",
   "language": "python",
   "name": "python3"
  },
  "language_info": {
   "codemirror_mode": {
    "name": "ipython",
    "version": 3
   },
   "file_extension": ".py",
   "mimetype": "text/x-python",
   "name": "python",
   "nbconvert_exporter": "python",
   "pygments_lexer": "ipython3",
   "version": "3.7.3"
  }
 },
 "nbformat": 4,
 "nbformat_minor": 2
}
